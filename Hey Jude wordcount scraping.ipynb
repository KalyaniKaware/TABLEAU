{
 "cells": [
  {
   "cell_type": "code",
   "execution_count": 212,
   "metadata": {},
   "outputs": [],
   "source": [
    "import pandas as pd\n",
    "from bs4 import BeautifulSoup as BS\n",
    "import requests\n",
    "import re"
   ]
  },
  {
   "cell_type": "code",
   "execution_count": 213,
   "metadata": {},
   "outputs": [],
   "source": [
    "url = 'https://www.azlyrics.com/lyrics/beatles/heyjude.html'"
   ]
  },
  {
   "cell_type": "code",
   "execution_count": 214,
   "metadata": {},
   "outputs": [],
   "source": [
    "data = requests.get(url)\n",
    "data = BS(data.text)"
   ]
  },
  {
   "cell_type": "code",
   "execution_count": 215,
   "metadata": {},
   "outputs": [],
   "source": [
    "lyrics = data.find_all(\"div\", class_ = \"\")[1].text"
   ]
  },
  {
   "cell_type": "code",
   "execution_count": 216,
   "metadata": {},
   "outputs": [
    {
     "data": {
      "text/plain": [
       "\"\\n\\r\\nHey, Jude, don't make it bad\\nTake a sad song and make it better\\nRemember to let her into your heart\\nThen you can start to make it better\\n\\nHey, Jude, don't be afraid\\nYou were made to go out and get her\\nThe minute you let her under your skin\\nThen you begin to make it better\\n\\nAnd anytime you feel the pain,\\nHey, Jude, refrain\\nDon't carry the world upon your shoulders\\nFor well you know that it's a fool\\nWho plays it cool\\nBy making his world a little colder\\n\\nNah, nah nah, nah nah, nah nah, nah nah\\n\\nHey, Jude, don't let me down\\nYou have found her, now go and get her\\nRemember to let her into your heart\\nThen you can start to make it better\\n\\nSo let it out and let it in,\\nHey, Jude, begin\\nYou're waiting for someone to perform with\\nAnd don't you know that it's just you,\\nHey, Jude, you'll do\\nThe movement you need is on your shoulder\\n\\nNah, nah nah, nah nah, nah nah, nah nah yeah\\n\\nHey, Jude, don't make it bad\\nTake a sad song and make it better\\nRemember to let her under your skin\\nThen you'll begin to make it better, better, better, better, better... oh!\\n\\nNah, nah nah, nah nah, nah, nah, nah nah,\\nHey, Jude\\nNah, nah nah, nah nah, nah, nah, nah nah,\\nHey, Jude\\nNah, nah nah, nah nah, nah, nah, nah nah,\\nHey, Jude (Jude)\\nNah, nah nah, nah nah, nah, nah, nah nah,\\nHey, Jude (yeah, yeah, yeah)\\nNah, nah nah, nah nah, nah, nah, nah nah,\\nHey, Jude\\nNah, nah nah, nah nah, nah, nah, nah nah,\\nHey, Jude (don't make it bad, Jude)\\nNah, nah nah, nah nah, nah, nah, nah nah,\\nHey, Jude (take a sad song and make it better)\\nNah, nah nah, nah nah, nah, nah, nah nah,\\nHey, Jude (oh, Jude)\\nNah, nah nah, nah nah, nah, nah, nah nah,\\nHey, Jude (Jude, hey, Jude, whoa)\\nNah, nah nah, nah nah, nah, nah, nah nah,\\nHey, Jude\\nNah, nah nah, nah nah, nah, nah, nah nah,\\nHey, Jude (ooh)\\nNah, nah nah, nah nah, nah, nah, nah nah,\\nHey, Jude\\nNah, nah nah, nah nah, nah, nah, nah nah,\\nHey, Jude\\nNah, nah nah, nah nah, nah, nah, nah nah,\\nHey, Jude\\nNah, nah nah, nah nah, nah, nah, nah nah,\\nHey, Jude\\nNah, nah nah, nah nah, nah, nah, nah nah,\\nHey, Jude [fade out]\\n\""
      ]
     },
     "execution_count": 216,
     "metadata": {},
     "output_type": "execute_result"
    }
   ],
   "source": [
    "lyrics"
   ]
  },
  {
   "cell_type": "code",
   "execution_count": 217,
   "metadata": {},
   "outputs": [
    {
     "data": {
      "text/plain": [
       "'!\"#$%&\\'()*+,-./:;<=>?@[\\\\]^_`{|}~'"
      ]
     },
     "execution_count": 217,
     "metadata": {},
     "output_type": "execute_result"
    }
   ],
   "source": [
    "import string\n",
    "string.punctuation"
   ]
  },
  {
   "cell_type": "code",
   "execution_count": 218,
   "metadata": {},
   "outputs": [
    {
     "data": {
      "text/plain": [
       "str"
      ]
     },
     "execution_count": 218,
     "metadata": {},
     "output_type": "execute_result"
    }
   ],
   "source": [
    "type(lyrics)"
   ]
  },
  {
   "cell_type": "code",
   "execution_count": 219,
   "metadata": {},
   "outputs": [],
   "source": [
    "lyrics = lyrics.replace('\\n', ' ')"
   ]
  },
  {
   "cell_type": "code",
   "execution_count": 220,
   "metadata": {},
   "outputs": [],
   "source": [
    "lyrics = lyrics.replace(string.punctuation, ' ')"
   ]
  },
  {
   "cell_type": "code",
   "execution_count": 221,
   "metadata": {},
   "outputs": [],
   "source": [
    "lyrics = lyrics.replace('(', '')\n",
    "lyrics = lyrics.replace(')', '')\n",
    "lyrics = lyrics.replace(',', ' ')\n",
    "lyrics = lyrics.replace('\\r', '')\n",
    "lyrics = lyrics.replace('.', '')\n",
    "lyrics = lyrics.replace('[', '')\n",
    "lyrics = lyrics.replace(']', '')\n",
    "lyrics = lyrics.replace('!', '')"
   ]
  },
  {
   "cell_type": "code",
   "execution_count": 222,
   "metadata": {},
   "outputs": [],
   "source": [
    "lyrics = lyrics.lower()"
   ]
  },
  {
   "cell_type": "code",
   "execution_count": 223,
   "metadata": {},
   "outputs": [],
   "source": [
    "list_lyrics = lyrics.split(' ')"
   ]
  },
  {
   "cell_type": "code",
   "execution_count": 224,
   "metadata": {},
   "outputs": [],
   "source": [
    "df = pd.DataFrame(list_lyrics, columns = ['words'])"
   ]
  },
  {
   "cell_type": "code",
   "execution_count": 225,
   "metadata": {},
   "outputs": [],
   "source": [
    "df.drop(df[df.words == ''].index, inplace = True)"
   ]
  },
  {
   "cell_type": "code",
   "execution_count": 226,
   "metadata": {},
   "outputs": [],
   "source": [
    "df.to_csv('hey_jude_wordcount.csv',index = False)"
   ]
  },
  {
   "cell_type": "code",
   "execution_count": 228,
   "metadata": {},
   "outputs": [
    {
     "data": {
      "text/plain": [
       "(415, 1)"
      ]
     },
     "execution_count": 228,
     "metadata": {},
     "output_type": "execute_result"
    }
   ],
   "source": [
    "df.shape"
   ]
  }
 ],
 "metadata": {
  "kernelspec": {
   "display_name": "Python 3",
   "language": "python",
   "name": "python3"
  },
  "language_info": {
   "codemirror_mode": {
    "name": "ipython",
    "version": 3
   },
   "file_extension": ".py",
   "mimetype": "text/x-python",
   "name": "python",
   "nbconvert_exporter": "python",
   "pygments_lexer": "ipython3",
   "version": "3.7.0"
  }
 },
 "nbformat": 4,
 "nbformat_minor": 2
}
